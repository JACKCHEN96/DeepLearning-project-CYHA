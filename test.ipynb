{
 "cells": [
  {
   "cell_type": "markdown",
   "metadata": {},
   "source": [
    "## Columbia University\n",
    "### ECBM E4040 Neural Networks and Deep Learning. Fall 2019."
   ]
  },
  {
   "cell_type": "markdown",
   "metadata": {},
   "source": [
    "# Test\n",
    "\n",
    "In this file, we are going to implement: \n",
    "\n",
    "(1) Define some basic functions to read data (which has already been processed and converted to .tfrecords file), including get_features, get_image, get_length, get_digits...\n",
    "\n",
    "(2) Build batch and normal evaluator for testing.\n",
    "\n",
    "(3) Build test process.\n",
    "\n",
    "(4) Test."
   ]
  },
  {
   "cell_type": "code",
   "execution_count": 1,
   "metadata": {},
   "outputs": [
    {
     "name": "stderr",
     "output_type": "stream",
     "text": [
      "/Users/wenjiechen/opt/anaconda3/lib/python3.7/site-packages/tensorflow/python/framework/dtypes.py:526: FutureWarning: Passing (type, 1) or '1type' as a synonym of type is deprecated; in a future version of numpy, it will be understood as (type, (1,)) / '(1,)type'.\n",
      "  _np_qint8 = np.dtype([(\"qint8\", np.int8, 1)])\n",
      "/Users/wenjiechen/opt/anaconda3/lib/python3.7/site-packages/tensorflow/python/framework/dtypes.py:527: FutureWarning: Passing (type, 1) or '1type' as a synonym of type is deprecated; in a future version of numpy, it will be understood as (type, (1,)) / '(1,)type'.\n",
      "  _np_quint8 = np.dtype([(\"quint8\", np.uint8, 1)])\n",
      "/Users/wenjiechen/opt/anaconda3/lib/python3.7/site-packages/tensorflow/python/framework/dtypes.py:528: FutureWarning: Passing (type, 1) or '1type' as a synonym of type is deprecated; in a future version of numpy, it will be understood as (type, (1,)) / '(1,)type'.\n",
      "  _np_qint16 = np.dtype([(\"qint16\", np.int16, 1)])\n",
      "/Users/wenjiechen/opt/anaconda3/lib/python3.7/site-packages/tensorflow/python/framework/dtypes.py:529: FutureWarning: Passing (type, 1) or '1type' as a synonym of type is deprecated; in a future version of numpy, it will be understood as (type, (1,)) / '(1,)type'.\n",
      "  _np_quint16 = np.dtype([(\"quint16\", np.uint16, 1)])\n",
      "/Users/wenjiechen/opt/anaconda3/lib/python3.7/site-packages/tensorflow/python/framework/dtypes.py:530: FutureWarning: Passing (type, 1) or '1type' as a synonym of type is deprecated; in a future version of numpy, it will be understood as (type, (1,)) / '(1,)type'.\n",
      "  _np_qint32 = np.dtype([(\"qint32\", np.int32, 1)])\n",
      "/Users/wenjiechen/opt/anaconda3/lib/python3.7/site-packages/tensorflow/python/framework/dtypes.py:535: FutureWarning: Passing (type, 1) or '1type' as a synonym of type is deprecated; in a future version of numpy, it will be understood as (type, (1,)) / '(1,)type'.\n",
      "  np_resource = np.dtype([(\"resource\", np.ubyte, 1)])\n"
     ]
    }
   ],
   "source": [
    "import os\n",
    "import tensorflow as tf\n",
    "from model import Model\n",
    "import json"
   ]
  },
  {
   "cell_type": "markdown",
   "metadata": {},
   "source": [
    "### Basic functions to extract features from data"
   ]
  },
  {
   "cell_type": "code",
   "execution_count": null,
   "metadata": {},
   "outputs": [],
   "source": [
    "def get_features(path_to_tfrecords_file):\n",
    "    filename_queue = tf.train.string_input_producer([path_to_tfrecords_file], num_epochs=None)\n",
    "    reader = tf.TFRecordReader()\n",
    "    _, serialized_example = reader.read(filename_queue)\n",
    "    features = tf.parse_single_example(serialized_example,\n",
    "            features={\n",
    "                'image': tf.FixedLenFeature([], tf.string),\n",
    "                'length': tf.FixedLenFeature([], tf.int64),\n",
    "                'digits': tf.FixedLenFeature([5], tf.int64)\n",
    "            })\n",
    "    return features"
   ]
  },
  {
   "cell_type": "code",
   "execution_count": null,
   "metadata": {},
   "outputs": [],
   "source": [
    "def get_image(features_image):\n",
    "    image = tf.decode_raw(features_image, tf.uint8)\n",
    "    image = tf.image.convert_image_dtype(image, dtype=tf.float32)\n",
    "    image = tf.multiply(tf.subtract(image, 0.5), 2)\n",
    "    image = tf.reshape(image, [64, 64, 3])\n",
    "    image = tf.random_crop(image, [54, 54, 3])\n",
    "    return image"
   ]
  },
  {
   "cell_type": "code",
   "execution_count": null,
   "metadata": {},
   "outputs": [],
   "source": [
    "def get_length(features_length):\n",
    "    length = tf.cast(features_length, tf.int32)\n",
    "    return length"
   ]
  },
  {
   "cell_type": "code",
   "execution_count": null,
   "metadata": {},
   "outputs": [],
   "source": [
    "def get_digits(features_digits):\n",
    "    digits = tf.cast(features_digits, tf.int32)\n",
    "    return digits"
   ]
  },
  {
   "cell_type": "markdown",
   "metadata": {},
   "source": [
    "### Build three_batch\n",
    "#### image_batch, length_batch, digit_batch"
   ]
  },
  {
   "cell_type": "code",
   "execution_count": null,
   "metadata": {},
   "outputs": [],
   "source": [
    "def three_batch(path_to_tfrecords_file, num_examples, batch_size, shuffled):\n",
    "    assert tf.gfile.Exists(path_to_tfrecords_file), '%s not found' % path_to_tfrecords_file\n",
    "    features = get_features(path_to_tfrecords_file)\n",
    "    image = get_image(features['image'])\n",
    "    length = get_length(features['length'])\n",
    "    digits = get_digits(features['digits'])\n",
    "    min_queue_examples = int(0.4 * num_examples)\n",
    "    image_batch, length_batch, digits_batch = tf.train.batch([image, length, digits],\n",
    "                                                                     batch_size=batch_size,\n",
    "                                                                     num_threads=2,\n",
    "                                                                     capacity=min_queue_examples + 3 * batch_size)\n",
    "    return image_batch, length_batch, digits_batch"
   ]
  },
  {
   "cell_type": "markdown",
   "metadata": {},
   "source": [
    "### Build normal evaluator for test process\n",
    "This function is quite common that can refer to previous homework."
   ]
  },
  {
   "cell_type": "code",
   "execution_count": 3,
   "metadata": {},
   "outputs": [],
   "source": [
    "#Used for evaluate the accuracy of the model\n",
    "class Evaluator(object):\n",
    "    def __init__(self, path_to_eval_log_dir):\n",
    "        self.summary_writer = tf.summary.FileWriter(path_to_eval_log_dir)\n",
    "\n",
    "\n",
    " \n",
    "    def evaluate(self, path_to_checkpoint, path_to_tfrecords_file, num_examples, global_step):\n",
    "        batch_size = 128\n",
    "        num_batches = num_examples // batch_size\n",
    "        needs_include_length = False\n",
    "\n",
    "        with tf.Graph().as_default():\n",
    "            image_batch, length_batch, digits_batch = three_batch(path_to_tfrecords_file,\n",
    "                                                                         num_examples=num_examples,\n",
    "                                                                         batch_size=batch_size,\n",
    "                                                                         shuffled=False)\n",
    "            length_logits, digits_logits = Model.inference(image_batch, drop_rate=0.0)\n",
    "            length_predictions = tf.argmax(length_logits, axis=1)\n",
    "            digits_predictions = tf.argmax(digits_logits, axis=2)\n",
    "\n",
    "            if needs_include_length:\n",
    "                labels = tf.concat([tf.reshape(length_batch, [-1, 1]), digits_batch], axis=1)\n",
    "                predictions = tf.concat([tf.reshape(length_predictions, [-1, 1]), digits_predictions], axis=1)\n",
    "            else:\n",
    "                labels = digits_batch\n",
    "                predictions = digits_predictions\n",
    "\n",
    "            labels_string = tf.reduce_join(tf.as_string(labels), axis=1)\n",
    "            predictions_string = tf.reduce_join(tf.as_string(predictions), axis=1)\n",
    "\n",
    "            accuracy, update_accuracy = tf.metrics.accuracy(\n",
    "                labels=labels_string,\n",
    "                predictions=predictions_string\n",
    "            )\n",
    "\n",
    "            tf.summary.image('image', image_batch)\n",
    "            tf.summary.scalar('accuracy', accuracy)\n",
    "            tf.summary.histogram('variables',\n",
    "                                 tf.concat([tf.reshape(var, [-1]) for var in tf.trainable_variables()], axis=0))\n",
    "            summary = tf.summary.merge_all()\n",
    "\n",
    "            with tf.Session() as sess:\n",
    "                sess.run([tf.global_variables_initializer(), tf.local_variables_initializer()])\n",
    "                coord = tf.train.Coordinator()\n",
    "                threads = tf.train.start_queue_runners(sess=sess, coord=coord)\n",
    "\n",
    "                restorer = tf.train.Saver()\n",
    "                restorer.restore(sess, path_to_checkpoint)\n",
    "\n",
    "                for _ in range(num_batches):\n",
    "                    sess.run(update_accuracy)\n",
    "\n",
    "                accuracy_val, summary_val = sess.run([accuracy, summary])\n",
    "                self.summary_writer.add_summary(summary_val, global_step=global_step)\n",
    "\n",
    "                coord.request_stop()\n",
    "                coord.join(threads)\n",
    "\n",
    "        return accuracy_val"
   ]
  },
  {
   "cell_type": "markdown",
   "metadata": {},
   "source": [
    "### Test\n",
    "Pass in the file path and start testing the exist models.<br>\n",
    "The test accuracy of all models reach over 84%. The gap between train and test accuracy is quite small."
   ]
  },
  {
   "cell_type": "code",
   "execution_count": 5,
   "metadata": {},
   "outputs": [
    {
     "name": "stdout",
     "output_type": "stream",
     "text": [
      "WARNING:tensorflow:From <ipython-input-2-a54bf80b3b4f>:5: string_input_producer (from tensorflow.python.training.input) is deprecated and will be removed in a future version.\n",
      "Instructions for updating:\n",
      "Queue-based input pipelines have been replaced by `tf.data`. Use `tf.data.Dataset.from_tensor_slices(string_tensor).shuffle(tf.shape(input_tensor, out_type=tf.int64)[0]).repeat(num_epochs)`. If `shuffle=False`, omit the `.shuffle(...)`.\n",
      "WARNING:tensorflow:From /Users/wenjiechen/opt/anaconda3/lib/python3.7/site-packages/tensorflow/python/training/input.py:278: input_producer (from tensorflow.python.training.input) is deprecated and will be removed in a future version.\n",
      "Instructions for updating:\n",
      "Queue-based input pipelines have been replaced by `tf.data`. Use `tf.data.Dataset.from_tensor_slices(input_tensor).shuffle(tf.shape(input_tensor, out_type=tf.int64)[0]).repeat(num_epochs)`. If `shuffle=False`, omit the `.shuffle(...)`.\n",
      "WARNING:tensorflow:From /Users/wenjiechen/opt/anaconda3/lib/python3.7/site-packages/tensorflow/python/training/input.py:190: limit_epochs (from tensorflow.python.training.input) is deprecated and will be removed in a future version.\n",
      "Instructions for updating:\n",
      "Queue-based input pipelines have been replaced by `tf.data`. Use `tf.data.Dataset.from_tensors(tensor).repeat(num_epochs)`.\n",
      "WARNING:tensorflow:From /Users/wenjiechen/opt/anaconda3/lib/python3.7/site-packages/tensorflow/python/training/input.py:199: QueueRunner.__init__ (from tensorflow.python.training.queue_runner_impl) is deprecated and will be removed in a future version.\n",
      "Instructions for updating:\n",
      "To construct input pipelines, use the `tf.data` module.\n",
      "WARNING:tensorflow:From /Users/wenjiechen/opt/anaconda3/lib/python3.7/site-packages/tensorflow/python/training/input.py:199: add_queue_runner (from tensorflow.python.training.queue_runner_impl) is deprecated and will be removed in a future version.\n",
      "Instructions for updating:\n",
      "To construct input pipelines, use the `tf.data` module.\n",
      "WARNING:tensorflow:From /Users/wenjiechen/opt/anaconda3/lib/python3.7/site-packages/tensorflow/python/training/input.py:202: to_float (from tensorflow.python.ops.math_ops) is deprecated and will be removed in a future version.\n",
      "Instructions for updating:\n",
      "Use tf.cast instead.\n",
      "WARNING:tensorflow:From <ipython-input-2-a54bf80b3b4f>:8: TFRecordReader.__init__ (from tensorflow.python.ops.io_ops) is deprecated and will be removed in a future version.\n",
      "Instructions for updating:\n",
      "Queue-based input pipelines have been replaced by `tf.data`. Use `tf.data.TFRecordDataset`.\n",
      "WARNING:tensorflow:From /Users/wenjiechen/opt/anaconda3/lib/python3.7/site-packages/tensorflow/python/ops/control_flow_ops.py:3632: colocate_with (from tensorflow.python.framework.ops) is deprecated and will be removed in a future version.\n",
      "Instructions for updating:\n",
      "Colocations handled automatically by placer.\n",
      "WARNING:tensorflow:From <ipython-input-2-a54bf80b3b4f>:34: batch (from tensorflow.python.training.input) is deprecated and will be removed in a future version.\n",
      "Instructions for updating:\n",
      "Queue-based input pipelines have been replaced by `tf.data`. Use `tf.data.Dataset.batch(batch_size)` (or `padded_batch(...)` if `dynamic_pad=True`).\n",
      "WARNING:tensorflow:From /Users/wenjiechen/Documents/GitHub/ECBM-E4040-Final/model.py:9: conv2d (from tensorflow.python.layers.convolutional) is deprecated and will be removed in a future version.\n",
      "Instructions for updating:\n",
      "Use keras.layers.conv2d instead.\n",
      "WARNING:tensorflow:From /Users/wenjiechen/Documents/GitHub/ECBM-E4040-Final/model.py:10: batch_normalization (from tensorflow.python.layers.normalization) is deprecated and will be removed in a future version.\n",
      "Instructions for updating:\n",
      "Use keras.layers.batch_normalization instead.\n",
      "WARNING:tensorflow:From /Users/wenjiechen/Documents/GitHub/ECBM-E4040-Final/model.py:12: max_pooling2d (from tensorflow.python.layers.pooling) is deprecated and will be removed in a future version.\n",
      "Instructions for updating:\n",
      "Use keras.layers.max_pooling2d instead.\n",
      "WARNING:tensorflow:From /Users/wenjiechen/Documents/GitHub/ECBM-E4040-Final/model.py:13: dropout (from tensorflow.python.layers.core) is deprecated and will be removed in a future version.\n",
      "Instructions for updating:\n",
      "Use keras.layers.dropout instead.\n",
      "WARNING:tensorflow:From /Users/wenjiechen/Documents/GitHub/ECBM-E4040-Final/model.py:75: dense (from tensorflow.python.layers.core) is deprecated and will be removed in a future version.\n",
      "Instructions for updating:\n",
      "Use keras.layers.dense instead.\n",
      "WARNING:tensorflow:From <ipython-input-3-a6cfb7b8b5b2>:46: start_queue_runners (from tensorflow.python.training.queue_runner_impl) is deprecated and will be removed in a future version.\n",
      "Instructions for updating:\n",
      "To construct input pipelines, use the `tf.data` module.\n",
      "WARNING:tensorflow:From /Users/wenjiechen/opt/anaconda3/lib/python3.7/site-packages/tensorflow/python/training/saver.py:1266: checkpoint_exists (from tensorflow.python.training.checkpoint_management) is deprecated and will be removed in a future version.\n",
      "Instructions for updating:\n",
      "Use standard file APIs to check for files with this prefix.\n",
      "INFO:tensorflow:Restoring parameters from logs_hyper/train/model.ckpt-22700\n",
      "Evaluate the model logs_hyper/train/model.ckpt-22700 on ./data/test.tfrecords, test accuracy is = 0.840533\n",
      "INFO:tensorflow:Restoring parameters from logs_hyper/train/model.ckpt-22900\n",
      "Evaluate the model logs_hyper/train/model.ckpt-22900 on ./data/test.tfrecords, test accuracy is = 0.852328\n",
      "INFO:tensorflow:Restoring parameters from logs_hyper/train/model.ckpt-23800\n",
      "Evaluate the model logs_hyper/train/model.ckpt-23800 on ./data/test.tfrecords, test accuracy is = 0.849111\n",
      "INFO:tensorflow:Restoring parameters from logs_hyper/train/model.ckpt-28300\n",
      "Evaluate the model logs_hyper/train/model.ckpt-28300 on ./data/test.tfrecords, test accuracy is = 0.850873\n"
     ]
    }
   ],
   "source": [
    "# start the testing progress\n",
    "path_to_train_tfrecords_file = './data/train.tfrecords'\n",
    "path_to_val_tfrecords_file = './data/val.tfrecords'\n",
    "path_to_test_tfrecords_file = './data/test.tfrecords'\n",
    "path_to_tfrecords_meta_file = './data/meta.json'\n",
    "path_to_checkpoint_dir = 'logs_hyper/train'\n",
    "path_to_train_eval_log_dir = './logs/eval/train'\n",
    "path_to_val_eval_log_dir = './logs/eval/val'\n",
    "path_to_test_eval_log_dir = './logs/eval/test'\n",
    "\n",
    "\n",
    "with open(path_to_tfrecords_meta_file, 'r') as f:\n",
    "        content = json.load(f)\n",
    "        num_train_examples = content['num_examples']['train']\n",
    "        num_val_examples = content['num_examples']['val']\n",
    "        num_test_examples = content['num_examples']['test']\n",
    "    \n",
    "\n",
    "evaluator = Evaluator(path_to_test_eval_log_dir)\n",
    "\n",
    "checkpoint_paths = tf.train.get_checkpoint_state(path_to_checkpoint_dir).all_model_checkpoint_paths\n",
    "\n",
    "for global_step, path_to_checkpoint in [(path.split('-')[-1], path) for path in checkpoint_paths]:\n",
    "    \n",
    "\n",
    "    try:\n",
    "        global_step_val = int(global_step)   \n",
    "        \n",
    "    except ValueError:\n",
    "        continue\n",
    "\n",
    "        \n",
    "    accuracy = evaluator.evaluate(path_to_checkpoint, path_to_test_tfrecords_file, num_test_examples,\n",
    "                                      global_step_val)\n",
    "    print ('Evaluate the model %s on %s, test accuracy is = %f' % (path_to_checkpoint, path_to_test_tfrecords_file, accuracy))"
   ]
  },
  {
   "cell_type": "code",
   "execution_count": null,
   "metadata": {},
   "outputs": [],
   "source": []
  }
 ],
 "metadata": {
  "kernelspec": {
   "display_name": "Python 3",
   "language": "python",
   "name": "python3"
  },
  "language_info": {
   "codemirror_mode": {
    "name": "ipython",
    "version": 3
   },
   "file_extension": ".py",
   "mimetype": "text/x-python",
   "name": "python",
   "nbconvert_exporter": "python",
   "pygments_lexer": "ipython3",
   "version": "3.7.4"
  }
 },
 "nbformat": 4,
 "nbformat_minor": 1
}
