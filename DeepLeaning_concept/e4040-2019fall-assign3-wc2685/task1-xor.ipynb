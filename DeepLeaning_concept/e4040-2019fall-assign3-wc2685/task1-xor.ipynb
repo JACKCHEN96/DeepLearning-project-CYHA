{
 "cells": [
  {
   "cell_type": "markdown",
   "metadata": {},
   "source": [
    "## Columbia University\n",
    "### ECBM E4040 Neural Networks and Deep Learning. Fall 2019."
   ]
  },
  {
   "cell_type": "markdown",
   "metadata": {},
   "source": [
    "# Task 1: XOR"
   ]
  },
  {
   "cell_type": "code",
   "execution_count": 2,
   "metadata": {},
   "outputs": [
    {
     "name": "stdout",
     "output_type": "stream",
     "text": [
      "The autoreload extension is already loaded. To reload it, use:\n",
      "  %reload_ext autoreload\n"
     ]
    }
   ],
   "source": [
    "# Import modules\n",
    "from __future__ import print_function\n",
    "import tensorflow as tf\n",
    "import numpy as np\n",
    "from numpy.random import shuffle\n",
    "import time\n",
    "import matplotlib.pyplot as plt\n",
    "\n",
    "# Plot configurations 1115\n",
    "%matplotlib inline\n",
    "\n",
    "# Notebook auto reloads code. (Ref: http://stackoverflow.com/questions/1907993/autoreload-of-modules-in-ipython)\n",
    "%load_ext autoreload\n",
    "%autoreload 2"
   ]
  },
  {
   "cell_type": "markdown",
   "metadata": {},
   "source": [
    "## Task 1, Part 1: Backpropagation through time (BPTT)"
   ]
  },
  {
   "cell_type": "markdown",
   "metadata": {},
   "source": [
    "**Question:** Consider a simple RNN network shown in the following figure, where _wx, wh, b1, w, b2_ are the scalar parameters of the network. The loss function is the **mean squared error (MSE)**. Given input _(x1, x2) = (-1, 0)_, ground truth _(g1, g2) = (1, 0), h0 = 0, (wx, wh, b1, w, b2) = (2, 1, 1, 2, 1)_, compute _(dwx, dwh, db1, dw, db2)_, which are the gradients of loss with repect to 5 parameters _(wx, wh, b1, w, b2)_.\n",
    "\n",
    "![bptt](./img/bptt2.jpg)"
   ]
  },
  {
   "cell_type": "markdown",
   "metadata": {},
   "source": [
    "<span style=\"color:red\">TODO:</span>\n",
    "\n",
    "Answer the above question. \n",
    "\n",
    "* **[fill in here: Enter your derivations and the computational process\n",
    "MSE=]**\n",
    "* You can use LATEX to edit the equations, and Jupyter notebook can recognize basic LATEX syntax. Alternatively, you can edit equations in some other environment and then paste the screenshot of the equations here.\n",
    "![img](img/task1_computation2.png)"
   ]
  },
  {
   "cell_type": "code",
   "execution_count": 3,
   "metadata": {},
   "outputs": [
    {
     "name": "stdout",
     "output_type": "stream",
     "text": [
      "WARNING:tensorflow:From D:\\chromeDownloads\\Anaconda3\\envs\\envTF113\\lib\\site-packages\\tensorflow\\python\\framework\\op_def_library.py:263: colocate_with (from tensorflow.python.framework.ops) is deprecated and will be removed in a future version.\n",
      "Instructions for updating:\n",
      "Colocations handled automatically by placer.\n",
      "verify by tensorflow\n",
      "dw = 0.0413, db2 = 0.0360, dwx = 0.0060, dwh = 0.0057, db1 = 0.0152\n"
     ]
    }
   ],
   "source": [
    "# use tensorflow to verify the answer.\n",
    "w = tf.Variable(2.0)\n",
    "b2 = tf.Variable(1.0)\n",
    "wx = tf.Variable(2.0)\n",
    "wh = tf.Variable(1.0)\n",
    "b1 = tf.Variable(1.0)\n",
    "\n",
    "h0 = tf.Variable(0.0)\n",
    "x = tf.placeholder(tf.float32, shape=(2,))\n",
    "g = tf.placeholder(tf.float32, shape=(2,))\n",
    "\n",
    "y = []\n",
    "h1 = tf.sigmoid(wx*x[0] + wh*h0 + b1)\n",
    "y.append(tf.sigmoid(w*h1 + b2))\n",
    "h2 = tf.sigmoid(wx*x[1] + wh*h1 + b1)\n",
    "y.append(tf.sigmoid(w*h2 + b2))\n",
    "\n",
    "loss = 0.5*(tf.square(g[0]-y[0]) + tf.square(g[1]-y[1]))\n",
    "\n",
    "dw, db2, dwx, dwh, db1 = tf.gradients(loss, [w, b2, wx, wh, b1])\n",
    "\n",
    "with tf.Session() as sess:\n",
    "    sess.run(tf.global_variables_initializer())\n",
    "    dw_t, db2_t, dwx_t, dwh_t, db1_t = sess.run([dw, db2, dwx, dwh, db1],\n",
    "                                              feed_dict={x: np.asarray([-1.0,0.0]), g: np.asarray([1.0,0.0])})\n",
    "print(\"verify by tensorflow\")\n",
    "print(\"dw = {:.4f}, db2 = {:.4f}, dwx = {:.4f}, dwh = {:.4f}, db1 = {:.4f}\".format(dw_t, db2_t, dwx_t, dwh_t, db1_t))"
   ]
  },
  {
   "cell_type": "markdown",
   "metadata": {},
   "source": [
    "## Task 1, Part 2: Use tensorflow modules to create XOR network\n",
    "\n",
    "In this part, you need to build and train an XOR network that can learn the XOR function. It is a very simple implementation of RNN and will give you an idea how RNN is built and how to train it."
   ]
  },
  {
   "cell_type": "markdown",
   "metadata": {},
   "source": [
    "### XOR network\n",
    "\n",
    "XOR network can learn the XOR $\\oplus$ function\n",
    "\n",
    "As shown in the figure below, and for instance, if input $(x0, x1, x2)$=(1,0,0), then output $(y1, y2, y3)$=(1,1,1). That is, $y_n = x_0\\oplus x_1 \\oplus ... \\oplus x_{n-1}$\n",
    "\n",
    "![xor_net](./img/xor.png)"
   ]
  },
  {
   "cell_type": "markdown",
   "metadata": {},
   "source": [
    "### Create data set\n",
    "This function provides you the way to generate the data which is required for the training process. You should utilize it when building your training function for the GRU. Please read the source code for more information."
   ]
  },
  {
   "cell_type": "code",
   "execution_count": 4,
   "metadata": {},
   "outputs": [],
   "source": [
    "from utils.xor.dataset import create_dataset"
   ]
  },
  {
   "cell_type": "markdown",
   "metadata": {},
   "source": [
    "### (Demo) Build a network using a Tensorlow LSTMCell and GRUCell\n",
    "This section shows an example how to build a RNN network using an LSTM cell or GRU cell. Both LSTM and GRU cell are inbuilt classes in tensorflow which separately implement the real behavior of the LSTM and GRU neuron. \n",
    "\n",
    "Reference: \n",
    "1. [TensorFlow LSTM cell](https://www.tensorflow.org/api_docs/python/tf/nn/rnn_cell/LSTMCell)\n",
    "1. [TensorFlow GRU cell](https://www.tensorflow.org/api_docs/python/tf/nn/rnn_cell/GRUCell)\n",
    "2. [Understanding GRU networks](https://towardsdatascience.com/understanding-gru-networks-2ef37df6c9be)"
   ]
  },
  {
   "cell_type": "markdown",
   "metadata": {},
   "source": [
    "#### LSTM"
   ]
  },
  {
   "cell_type": "code",
   "execution_count": 7,
   "metadata": {},
   "outputs": [],
   "source": [
    "from tensorflow.contrib.rnn import LSTMCell\n",
    "\n",
    "# define LSTM cell\n",
    "lstm_units = 64\n",
    "cell = LSTMCell(lstm_units,num_proj=2,state_is_tuple=True)\n",
    "\n",
    "\n",
    "tf.reset_default_graph()\n",
    "\n",
    "# Input shape: (num_samples, seq_length, input_dimension)\n",
    "# Output shape: (num_samples, output_ground_truth), and output_ground_truth is 0/1.\n",
    "input_data = tf.placeholder(tf.float32, shape=[None,None,1])\n",
    "output_data = tf.placeholder(tf.int64, shape=[None,None])\n",
    "\n",
    "# create LSTM network: you can also choose other modules provided by tensorflow, like static_rnn etc.\n",
    "hidden, _ = tf.nn.dynamic_rnn(cell, input_data, dtype=tf.float32)\n",
    "\n",
    "# generate output from the hidden information\n",
    "output_shape = 2\n",
    "out = tf.layers.dense(hidden, output_shape)\n",
    "pred = tf.argmax(out, axis=2)\n",
    "\n",
    "# loss function\n",
    "loss = tf.reduce_mean(tf.nn.sparse_softmax_cross_entropy_with_logits(labels=output_data,logits=out))\n",
    "\n",
    "# optimization\n",
    "optimizer = tf.train.AdamOptimizer(learning_rate=0.1).minimize(loss)\n",
    "\n",
    "# accuracy\n",
    "correct_num = tf.equal(output_data,pred)\n",
    "accuracy = tf.reduce_mean(tf.cast(correct_num,tf.float32))"
   ]
  },
  {
   "cell_type": "markdown",
   "metadata": {},
   "source": [
    "#### GRU"
   ]
  },
  {
   "cell_type": "code",
   "execution_count": 8,
   "metadata": {},
   "outputs": [],
   "source": [
    "from tensorflow.contrib.rnn import GRUCell\n",
    "\n",
    "# define GRU cell\n",
    "gru_units = 64\n",
    "cell = GRUCell(gru_units)\n",
    "\n",
    "\n",
    "tf.reset_default_graph()\n",
    "\n",
    "# Input shape: (num_samples, seq_length, input_dimension)\n",
    "# Output shape: (num_samples, output_ground_truth), and output_ground_truth is 0/1.\n",
    "input_data = tf.placeholder(tf.float32, shape=[None,None,1])\n",
    "output_data = tf.placeholder(tf.int64, shape=[None,None])\n",
    "\n",
    "# create GRU network: you can also choose other modules provided by tensorflow, like static_rnn etc.\n",
    "hidden, _ = tf.nn.dynamic_rnn(cell, input_data, dtype=tf.float32)\n",
    "\n",
    "# generate output from the hidden information\n",
    "output_shape = 2\n",
    "out = tf.layers.dense(hidden, output_shape)\n",
    "pred = tf.argmax(out, axis=2)\n",
    "\n",
    "# loss function\n",
    "loss = tf.reduce_mean(tf.nn.sparse_softmax_cross_entropy_with_logits(labels=output_data,logits=out))\n",
    "\n",
    "# optimization\n",
    "optimizer = tf.train.AdamOptimizer(learning_rate=0.1).minimize(loss)\n",
    "\n",
    "# accuracy\n",
    "correct_num = tf.equal(output_data,pred)\n",
    "accuracy = tf.reduce_mean(tf.cast(correct_num,tf.float32))"
   ]
  },
  {
   "cell_type": "markdown",
   "metadata": {},
   "source": [
    "### Training \n",
    "\n",
    "<span style='color:red'>TODO:</span> \n",
    "1. Build your training function for RNN (choose either LSTM or GRU); \n",
    "2. Plot the cost during the training"
   ]
  },
  {
   "cell_type": "code",
   "execution_count": 26,
   "metadata": {},
   "outputs": [
    {
     "name": "stdout",
     "output_type": "stream",
     "text": [
      "epoch: 1\n",
      "loss= 0.6926440000534058\n",
      "epoch: 2\n",
      "loss= 0.7098047137260437\n",
      "epoch: 3\n",
      "loss= 0.7499566674232483\n",
      "epoch: 4\n",
      "loss= 0.6878140568733215\n",
      "epoch: 5\n",
      "loss= 0.7009798884391785\n",
      "epoch: 6\n",
      "loss= 0.7002521753311157\n",
      "epoch: 7\n",
      "loss= 0.6916649341583252\n",
      "epoch: 8\n",
      "loss= 0.6856435537338257\n",
      "epoch: 9\n",
      "loss= 0.6845898032188416\n",
      "epoch: 10\n",
      "loss= 0.6783310770988464\n",
      "epoch: 11\n",
      "loss= 0.6682986617088318\n",
      "epoch: 12\n",
      "loss= 0.6595194935798645\n",
      "epoch: 13\n",
      "loss= 0.6306812763214111\n",
      "epoch: 14\n",
      "loss= 0.5953673720359802\n",
      "epoch: 15\n",
      "loss= 0.5375534892082214\n",
      "epoch: 16\n",
      "loss= 0.5002279877662659\n",
      "epoch: 17\n",
      "loss= 0.3022981584072113\n",
      "epoch: 18\n",
      "loss= 0.3710448443889618\n",
      "epoch: 19\n",
      "loss= 0.15813125669956207\n",
      "epoch: 20\n",
      "loss= 0.09121103584766388\n",
      "epoch: 21\n",
      "loss= 0.185941681265831\n",
      "epoch: 22\n",
      "loss= 0.039155229926109314\n",
      "epoch: 23\n",
      "loss= 0.3324223756790161\n",
      "epoch: 24\n",
      "loss= 0.016634689643979073\n",
      "epoch: 25\n",
      "loss= 0.01620708778500557\n",
      "epoch: 26\n",
      "loss= 0.0469779297709465\n",
      "epoch: 27\n",
      "loss= 0.06622765213251114\n",
      "epoch: 28\n",
      "loss= 0.03403016924858093\n",
      "epoch: 29\n",
      "loss= 0.023780956864356995\n",
      "epoch: 30\n",
      "loss= 0.017183218151330948\n"
     ]
    }
   ],
   "source": [
    "# TODO: training\n",
    "# First, generate dataset\n",
    "X_train, y_train=create_dataset(5000,8)\n",
    "# Init\n",
    "epoch=30\n",
    "train_loss=[]\n",
    "# refer to the function in the previous homework.\n",
    "with tf.Session() as sess:\n",
    "    sess.run(tf.global_variables_initializer())\n",
    "    for i in range(epoch):\n",
    "        print(\"epoch: {}\".format(i+1))\n",
    "        _,current_loss=sess.run([optimizer,loss],feed_dict={input_data:X_train,output_data:y_train})\n",
    "        print(\"loss= {}\".format(current_loss))\n",
    "        train_loss.append(current_loss)"
   ]
  },
  {
   "cell_type": "code",
   "execution_count": 27,
   "metadata": {},
   "outputs": [
    {
     "data": {
      "text/plain": [
       "<function matplotlib.pyplot.show(*args, **kw)>"
      ]
     },
     "execution_count": 27,
     "metadata": {},
     "output_type": "execute_result"
    },
    {
     "data": {
      "image/png": "[encoded data removed]",
      "text/plain": [
       "<Figure size 432x288 with 1 Axes>"
      ]
     },
     "metadata": {
      "needs_background": "light"
     },
     "output_type": "display_data"
    }
   ],
   "source": [
    "# TODO: plot loss history\n",
    "plt.plot(train_loss,label=\"train_loss\")\n",
    "plt.legend()\n",
    "plt.show"
   ]
  },
  {
   "cell_type": "markdown",
   "metadata": {
    "collapsed": true
   },
   "source": [
    "## Task 1, Part 3 :  Build your own LSTMCell\n",
    "In this part, you need to build your own LSTM cell to achieve the LSTM functionality. \n",
    "\n",
    "<span style=\"color:red\">TODO:</span> \n",
    "1. Finish class **MyLSTMCell** in utils/xor/rnn.py;\n",
    "2. Write the training function for your RNN;\n",
    "3. Plot the cost during training."
   ]
  },
  {
   "cell_type": "code",
   "execution_count": 7,
   "metadata": {},
   "outputs": [],
   "source": [
    "# from utils.xor.rnn import MyLSTMCell"
   ]
  },
  {
   "cell_type": "code",
   "execution_count": 16,
   "metadata": {},
   "outputs": [],
   "source": [
    "# recreate xor netowrk with your own LSTM cell\n",
    "from utils.xor.rnn import MyLSTMCell\n",
    "tf.reset_default_graph()\n",
    "\n",
    "#Input shape: (num_samples,seq_length,input_dimension)\n",
    "#Output shape: (num_samples, output_ground_truth), and output_ground_truth is 0/1. \n",
    "input_data = tf.placeholder(tf.float32,shape=[None,None,1])\n",
    "output_data = tf.placeholder(tf.int64,shape=[None,None])\n",
    "\n",
    "# recreate xor netowrk with your own LSTM cell\n",
    "lstm_units = 64\n",
    "cell = MyLSTMCell(lstm_units,num_proj=2)\n",
    "\n",
    "# create GRU network: you can also choose other modules provided by tensorflow, like static_rnn etc.\n",
    "hidden, _ = tf.nn.dynamic_rnn(cell,input_data,dtype=tf.float32)\n",
    "\n",
    "# generate output from the hidden information\n",
    "output_shape = 2\n",
    "out = tf.layers.dense(hidden, output_shape)\n",
    "pred = tf.argmax(out,axis=2)\n",
    "\n",
    "# loss function\n",
    "loss = tf.reduce_mean(tf.nn.sparse_softmax_cross_entropy_with_logits(labels=output_data,logits=out))\n",
    "# optimization\n",
    "optimizer = tf.train.AdamOptimizer(learning_rate=0.1).minimize(loss)\n",
    "# accuracy\n",
    "correct = tf.equal(output_data,pred)\n",
    "accuracy = tf.reduce_mean(tf.cast(correct,tf.float32))"
   ]
  },
  {
   "cell_type": "markdown",
   "metadata": {},
   "source": [
    "### Training"
   ]
  },
  {
   "cell_type": "code",
   "execution_count": 17,
   "metadata": {},
   "outputs": [
    {
     "name": "stdout",
     "output_type": "stream",
     "text": [
      "epoch: 1\n",
      "loss= 1.5643529891967773\n",
      "epoch: 2\n",
      "loss= 0.8119238615036011\n",
      "epoch: 3\n",
      "loss= 1.3741962909698486\n",
      "epoch: 4\n",
      "loss= 0.9713070392608643\n",
      "epoch: 5\n",
      "loss= 0.7305314540863037\n",
      "epoch: 6\n",
      "loss= 0.6956502199172974\n",
      "epoch: 7\n",
      "loss= 0.6932949423789978\n",
      "epoch: 8\n",
      "loss= 0.7065271735191345\n",
      "epoch: 9\n",
      "loss= 0.7205525636672974\n",
      "epoch: 10\n",
      "loss= 0.7293788194656372\n",
      "epoch: 11\n",
      "loss= 0.7317215800285339\n",
      "epoch: 12\n",
      "loss= 0.7285776138305664\n",
      "epoch: 13\n",
      "loss= 0.721890926361084\n",
      "epoch: 14\n",
      "loss= 0.7137463092803955\n",
      "epoch: 15\n",
      "loss= 0.7059046626091003\n",
      "epoch: 16\n",
      "loss= 0.6995717883110046\n",
      "epoch: 17\n",
      "loss= 0.6953554153442383\n",
      "epoch: 18\n",
      "loss= 0.6933141350746155\n",
      "epoch: 19\n",
      "loss= 0.6931008100509644\n",
      "epoch: 20\n",
      "loss= 0.6941125392913818\n",
      "epoch: 21\n",
      "loss= 0.6956744194030762\n",
      "epoch: 22\n",
      "loss= 0.6971731185913086\n",
      "epoch: 23\n",
      "loss= 0.6981640458106995\n",
      "epoch: 24\n",
      "loss= 0.698410153388977\n",
      "epoch: 25\n",
      "loss= 0.6978821158409119\n",
      "epoch: 26\n",
      "loss= 0.6967207193374634\n",
      "epoch: 27\n",
      "loss= 0.6951708793640137\n",
      "epoch: 28\n",
      "loss= 0.6935221552848816\n",
      "epoch: 29\n",
      "loss= 0.6920406222343445\n",
      "epoch: 30\n",
      "loss= 0.690922737121582\n"
     ]
    }
   ],
   "source": [
    "# TODO: training\n",
    "# First, generate dataset\n",
    "X_train, y_train=create_dataset(5000,8)\n",
    "# Init\n",
    "epoch=30\n",
    "train_loss=[]\n",
    "# refer to the function in the previous homework\n",
    "with tf.Session() as sess:\n",
    "    sess.run(tf.global_variables_initializer())\n",
    "    for i in range(epoch):\n",
    "        print(\"epoch: {}\".format(i+1))\n",
    "        _,current_loss=sess.run([optimizer,loss],feed_dict={input_data:X_train,output_data:y_train})\n",
    "        print(\"loss= {}\".format(current_loss))\n",
    "        train_loss.append(current_loss)"
   ]
  },
  {
   "cell_type": "code",
   "execution_count": 18,
   "metadata": {},
   "outputs": [
    {
     "data": {
      "text/plain": [
       "<function matplotlib.pyplot.show(*args, **kw)>"
      ]
     },
     "execution_count": 18,
     "metadata": {},
     "output_type": "execute_result"
    },
    {
     "data": {
      "image/png": "[encoded data removed]",
      "text/plain": [
       "<Figure size 432x288 with 1 Axes>"
      ]
     },
     "metadata": {
      "needs_background": "light"
     },
     "output_type": "display_data"
    }
   ],
   "source": [
    "# TODO: plot loss history\n",
    "plt.plot(train_loss,label=\"train_loss\")\n",
    "plt.legend()\n",
    "plt.show"
   ]
  },
  {
   "cell_type": "code",
   "execution_count": null,
   "metadata": {},
   "outputs": [],
   "source": []
  }
 ],
 "metadata": {
  "kernelspec": {
   "display_name": "Python 3",
   "language": "python",
   "name": "python3"
  },
  "language_info": {
   "codemirror_mode": {
    "name": "ipython",
    "version": 3
   },
   "file_extension": ".py",
   "mimetype": "text/x-python",
   "name": "python",
   "nbconvert_exporter": "python",
   "pygments_lexer": "ipython3",
   "version": "3.6.9"
  }
 },
 "nbformat": 4,
 "nbformat_minor": 2
}
